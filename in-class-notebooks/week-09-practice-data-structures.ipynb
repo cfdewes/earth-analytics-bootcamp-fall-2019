{
 "cells": [
  {
   "cell_type": "markdown",
   "metadata": {},
   "source": [
    "## Combine Workflow For Numpy Arrays and Pandas Dataframes\n",
    "\n",
    "The first five cells are part of the typical workflow for getting data into **numpy** arrays (as demonstrated in the online textbook), while the last four are for **pandas** dataframes.\n",
    "\n",
    "How do we combine them into one notebook that follows the appropriate structure and order?"
   ]
  },
  {
   "cell_type": "code",
   "execution_count": null,
   "metadata": {},
   "outputs": [],
   "source": [
    "# Import necessary packages\n",
    "import os\n",
    "import numpy as np\n",
    "import earthpy as et"
   ]
  },
  {
   "cell_type": "code",
   "execution_count": null,
   "metadata": {},
   "outputs": [],
   "source": [
    "# Download .txt with avg monthly precip (inches)\n",
    "avg_month_precip_url = 'https://ndownloader.figshare.com/files/12565616'\n",
    "et.data.get_data(url=avg_month_precip_url)"
   ]
  },
  {
   "cell_type": "code",
   "execution_count": null,
   "metadata": {},
   "outputs": [],
   "source": [
    "# Download .csv of precip data for 2002 and 2013 (inches)\n",
    "precip_2002_2013_url = 'https://ndownloader.figshare.com/files/12707792'\n",
    "et.data.get_data(url=precip_2002_2013_url)"
   ]
  },
  {
   "cell_type": "code",
   "execution_count": null,
   "metadata": {},
   "outputs": [],
   "source": [
    "# Set working directory to earth-analytics\n",
    "os.chdir(os.path.join(et.io.HOME, 'earth-analytics'))"
   ]
  },
  {
   "cell_type": "code",
   "execution_count": null,
   "metadata": {},
   "outputs": [],
   "source": [
    "# Import avg monthly precip to 1-D numpy array\n",
    "avg_month_precip_path = \"data/earthpy-downloads/avg-monthly-precip.txt\"\n",
    "avg_month_precip = np.loadtxt(avg_month_precip_path)\n",
    "\n",
    "# Import monthly precip for 2002 and 2013 to 2-D numpy array\n",
    "precip_2002_2013_path = \"data/earthpy-downloads/monthly-precip-2002-2013.csv\"\n",
    "precip_2002_2013 = np.loadtxt(precip_2002_2013_path, delimiter = \",\")"
   ]
  },
  {
   "cell_type": "code",
   "execution_count": null,
   "metadata": {},
   "outputs": [],
   "source": [
    "# Import necessary packages\n",
    "import os\n",
    "import pandas as pd\n",
    "import earthpy as et"
   ]
  },
  {
   "cell_type": "code",
   "execution_count": null,
   "metadata": {},
   "outputs": [],
   "source": [
    "# Download .csv with avg monthly precip data with headers\n",
    "avg_month_precip_url = \"https://ndownloader.figshare.com/files/12710618\"\n",
    "et.data.get_data(url=avg_month_precip_url)"
   ]
  },
  {
   "cell_type": "code",
   "execution_count": null,
   "metadata": {},
   "outputs": [],
   "source": [
    "# Set working directory to earth-analytics\n",
    "os.chdir(os.path.join(et.io.HOME, \"earth-analytics\"))"
   ]
  },
  {
   "cell_type": "code",
   "execution_count": null,
   "metadata": {},
   "outputs": [],
   "source": [
    "# Import data from .csv file\n",
    "avg_month_precip_path = os.path.join(\"data\", \"earthpy-downloads\", \n",
    "                     \"avg-precip-months-seasons.csv\")\n",
    "\n",
    "avg_month_precip = pd.read_csv(avg_month_precip_path)"
   ]
  }
 ],
 "metadata": {
  "kernelspec": {
   "display_name": "Python 3",
   "language": "python",
   "name": "python3"
  },
  "language_info": {
   "codemirror_mode": {
    "name": "ipython",
    "version": 3
   },
   "file_extension": ".py",
   "mimetype": "text/x-python",
   "name": "python",
   "nbconvert_exporter": "python",
   "pygments_lexer": "ipython3",
   "version": "3.7.3"
  },
  "varInspector": {
   "cols": {
    "lenName": 16,
    "lenType": 16,
    "lenVar": 40
   },
   "kernels_config": {
    "python": {
     "delete_cmd_postfix": "",
     "delete_cmd_prefix": "del ",
     "library": "var_list.py",
     "varRefreshCmd": "print(var_dic_list())"
    },
    "r": {
     "delete_cmd_postfix": ") ",
     "delete_cmd_prefix": "rm(",
     "library": "var_list.r",
     "varRefreshCmd": "cat(var_dic_list()) "
    }
   },
   "types_to_exclude": [
    "module",
    "function",
    "builtin_function_or_method",
    "instance",
    "_Feature"
   ],
   "window_display": false
  }
 },
 "nbformat": 4,
 "nbformat_minor": 2
}
