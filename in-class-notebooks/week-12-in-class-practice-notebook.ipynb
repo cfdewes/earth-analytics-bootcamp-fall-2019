{
 "cells": [
  {
   "cell_type": "markdown",
   "metadata": {},
   "source": [
    "## Modular Code in Python\n",
    "\n",
    "Modular code begins with functions that can be used to combine and repeat tasks as needed on the specified input parameters.  The necessary input parameters are determined by the function definition (i.e. the code that the function executes and what that code needs as inputs). "
   ]
  },
  {
   "cell_type": "code",
   "execution_count": 1,
   "metadata": {},
   "outputs": [],
   "source": [
    "# Import necessary packages \n",
    "import os\n",
    "import numpy as np\n",
    "import pandas as pd\n",
    "import earthpy as et"
   ]
  },
  {
   "cell_type": "code",
   "execution_count": 2,
   "metadata": {},
   "outputs": [],
   "source": [
    "# 1d array of average monthly precip (mm) for 2002 in Boulder, CO\n",
    "precip_2002_mm = np.array([27.178, 11.176, 38.1,  5.08, 81.28, 29.972,  \n",
    "                           2.286, 36.576, 38.608, 61.976, 19.812, 0.508])"
   ]
  },
  {
   "cell_type": "code",
   "execution_count": 3,
   "metadata": {},
   "outputs": [],
   "source": [
    "# 2d array of average monthly precip (mm) for 2002 and 2013 in Boulder, CO\n",
    "precip_2002_2013_mm = np.array([[27.178, 11.176, 38.1, 5.08, 81.28, 29.972, \n",
    "                                 2.286, 36.576, 38.608, 61.976, 19.812, 0.508],\n",
    "                                [6.858, 28.702, 43.688, 105.156, 67.564, 15.494,  \n",
    "                                 26.162, 35.56 , 461.264, 56.896, 7.366, 12.7]\n",
    "                               ])"
   ]
  },
  {
   "cell_type": "code",
   "execution_count": 4,
   "metadata": {},
   "outputs": [],
   "source": [
    "# URL for average monthly precip (inches) for 2002 and 2013 in Boulder, CO\n",
    "precip_2002_2013_df_url = \"https://ndownloader.figshare.com/files/12710621\"\n",
    "\n",
    "# Path to downloaded .csv file with headers\n",
    "precip_2002_2013_df_path = os.path.join(\"data\", \"earthpy-downloads\", \n",
    "                                        \"precip-2002-2013-months-seasons.csv\")"
   ]
  },
  {
   "cell_type": "markdown",
   "metadata": {},
   "source": [
    "## Combine Unit Conversion and Calculation of Statistics into One Function\n",
    "\n",
    "Imagine that you want to both convert the units of a **numpy** array from millimeters to inches and calculate the mean value along a specified axis for either columns or rows.\n",
    "\n",
    "Recall the function definition that you previously wrote to convert values from millimeters to inches:\n",
    "\n",
    "```python\n",
    "def mm_to_in(mm):\n",
    "    \"\"\"Convert input from millimeters to inches. \n",
    "    \n",
    "    Parameters\n",
    "    ----------\n",
    "    mm : int or float\n",
    "        Numeric value with units in millimeters.\n",
    "\n",
    "    Returns\n",
    "    ------\n",
    "    inches : int or float\n",
    "        Numeric value with units in inches.\n",
    "    \"\"\"\n",
    "    inches = mm / 25.4    \n",
    "    return inches\n",
    "```"
   ]
  }
 ],
 "metadata": {
  "celltoolbar": "Edit Metadata",
  "jupytext": {
   "formats": "ipynb,md"
  },
  "kernelspec": {
   "display_name": "Python 3",
   "language": "python",
   "name": "python3"
  },
  "language_info": {
   "codemirror_mode": {
    "name": "ipython",
    "version": 3
   },
   "file_extension": ".py",
   "mimetype": "text/x-python",
   "name": "python",
   "nbconvert_exporter": "python",
   "pygments_lexer": "ipython3",
   "version": "3.7.3"
  },
  "varInspector": {
   "cols": {
    "lenName": 16,
    "lenType": 16,
    "lenVar": 40
   },
   "kernels_config": {
    "python": {
     "delete_cmd_postfix": "",
     "delete_cmd_prefix": "del ",
     "library": "var_list.py",
     "varRefreshCmd": "print(var_dic_list())"
    },
    "r": {
     "delete_cmd_postfix": ") ",
     "delete_cmd_prefix": "rm(",
     "library": "var_list.r",
     "varRefreshCmd": "cat(var_dic_list()) "
    }
   },
   "types_to_exclude": [
    "module",
    "function",
    "builtin_function_or_method",
    "instance",
    "_Feature"
   ],
   "window_display": false
  }
 },
 "nbformat": 4,
 "nbformat_minor": 2
}
