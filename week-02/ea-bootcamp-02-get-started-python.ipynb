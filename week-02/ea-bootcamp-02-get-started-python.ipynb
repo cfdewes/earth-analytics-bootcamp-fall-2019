{
 "cells": [
  {
   "cell_type": "markdown",
   "metadata": {},
   "source": [
    "Before you turn this problem in, make sure everything runs as expected. First, **restart the kernel** (in the menubar, select Kernel$\\rightarrow$Restart) and then **run all cells** (in the menubar, select Cell$\\rightarrow$Run All).\n",
    "\n",
    "Make sure you fill in any place that says `YOUR CODE HERE` or \"YOUR ANSWER HERE\", as well as your name and collaborators below:"
   ]
  },
  {
   "cell_type": "code",
   "execution_count": null,
   "metadata": {},
   "outputs": [],
   "source": [
    "NAME = \"\"\n",
    "COLLABORATORS = \"\""
   ]
  },
  {
   "cell_type": "markdown",
   "metadata": {},
   "source": [
    "---"
   ]
  },
  {
   "cell_type": "markdown",
   "metadata": {
    "deletable": false,
    "editable": false,
    "nbgrader": {
     "cell_type": "markdown",
     "checksum": "8115d981c69746150727eb6228c8d5a7",
     "grade": false,
     "grade_id": "header-logo",
     "locked": true,
     "schema_version": 3,
     "solution": false
    }
   },
   "source": [
    "<img style=\"float: left;\" src=\"earth-lab-logo-rgb.png\" width=\"150\" height=\"150\" />\n",
    "\n",
    "# Earth Analytics Education"
   ]
  },
  {
   "cell_type": "markdown",
   "metadata": {
    "deletable": false,
    "editable": false,
    "nbgrader": {
     "cell_type": "markdown",
     "checksum": "a832080faffe1211a18d3d1784c07ed7",
     "grade": false,
     "grade_id": "hw-instructions",
     "locked": true,
     "schema_version": 3,
     "solution": false
    }
   },
   "source": [
    "# Week 2 Homework Template\n",
    "\n",
    "To complete assignment 2, be sure you have reviewed **Chapters 10-11 from Sections 4 and 5** of the <a href=\"https://www.earthdatascience.org/courses/intro-to-earth-data-science/\" target=\"_blank\">Intro to Earth Data Science</a> online textbook, which covers how to create and work with variables and lists as well as how to write clean code, including an introduction to the PEP 8 style guide for **Python**.   \n",
    "\n",
    "Read the instructions for each question carefully to successfully complete the required tasks.\n",
    "\n",
    "Be sure to use clear and succinct names for variables, etc, and to organize your code to support readability.\n",
    "\n",
    "For this assignment, you will use the following data on average monthly temperature for <a href=\"https://www.esrl.noaa.gov/psd/boulder/Boulder.mm.html\" target=\"_blank\">Boulder, Colorado, provided by the U.S. National Oceanic and Atmospheric Administration (NOAA).</a> \n",
    "\n",
    "Month  | Temperature (Fahrenheit) |\n",
    "--- | --- |\n",
    "Jan | 32.0 |\n",
    "Feb | 35.6 |\n",
    "Mar | 41.0 |\n",
    "Apr | 49.2 |\n",
    "May | 57.9 |\n",
    "June | 67.2 |\n",
    "July | 73.0 |\n",
    "Aug | 71.1 |\n",
    "Sept | 62.1 |\n",
    "Oct | 52.9 |\n",
    "Nov | 40.8 |\n",
    "Dec | 33.8 |"
   ]
  },
  {
   "cell_type": "code",
   "execution_count": null,
   "metadata": {
    "deletable": false,
    "editable": false,
    "nbgrader": {
     "cell_type": "code",
     "checksum": "9406b5deaded509d2159b7ec9d14fa69",
     "grade": false,
     "grade_id": "core-imports",
     "locked": true,
     "schema_version": 3,
     "solution": false
    }
   },
   "outputs": [],
   "source": [
    "# Core imports needed for grading\n",
    "import matplotcheck.notebook as nb\n",
    "import matplotcheck.timeseries as ts"
   ]
  },
  {
   "cell_type": "markdown",
   "metadata": {
    "deletable": false,
    "editable": false,
    "nbgrader": {
     "cell_type": "markdown",
     "checksum": "23832c049cae96a9c2a6de98638dd6da",
     "grade": false,
     "grade_id": "question-student-imports",
     "locked": true,
     "schema_version": 3,
     "solution": false
    }
   },
   "source": [
    "## Import Python Packages\n",
    "\n",
    "In the cell below, copy and paste the following code **after the line for `Your Code Here`**, replacing `raise NotImplementedError()` with your code:\n",
    "```python\n",
    "import matplotlib.pyplot as plt\n",
    "```\n",
    "\n",
    "This line of code will import the `matplotlib` package, which you will use to create a plot in later question.  \n",
    "\n",
    "You will learn more about Python packages in the next few weeks but for now, you can start to practice working with code cells and organizing Python code in Jupyter Notebook files.  "
   ]
  },
  {
   "cell_type": "code",
   "execution_count": null,
   "metadata": {
    "deletable": false,
    "nbgrader": {
     "cell_type": "code",
     "checksum": "a05ce383dbecc615734c8da3ef33a517",
     "grade": true,
     "grade_id": "student-imports-answer",
     "locked": false,
     "points": 2,
     "schema_version": 3,
     "solution": true
    }
   },
   "outputs": [],
   "source": [
    "# Import necessary packages\n",
    "\n",
    "# YOUR CODE HERE\n",
    "raise NotImplementedError()"
   ]
  },
  {
   "cell_type": "markdown",
   "metadata": {
    "deletable": false,
    "editable": false,
    "nbgrader": {
     "cell_type": "markdown",
     "checksum": "0c9d1009c546f8c2a79de48403d7a618",
     "grade": false,
     "grade_id": "student-create-variable-question",
     "locked": true,
     "schema_version": 3,
     "solution": false,
     "task": false
    }
   },
   "source": [
    "## Create Variables\n",
    "\n",
    "In the cell below, add your code **after the line for `Your Code Here`**, replacing `raise NotImplementedError()` with your code, to complete the following task:\n",
    "\n",
    "* Create variables for monthly average temperature (Fahrenheit) for January through June. \n",
    "\n",
    "Month  | Temperature (Fahrenheit) |\n",
    "--- | --- |\n",
    "Jan | 32.0 |\n",
    "Feb | 35.6 |\n",
    "Mar | 41.0 |\n",
    "Apr | 49.2 |\n",
    "May | 57.9 |\n",
    "June | 67.2 |"
   ]
  },
  {
   "cell_type": "code",
   "execution_count": null,
   "metadata": {
    "deletable": false,
    "nbgrader": {
     "cell_type": "code",
     "checksum": "6f3693ead8fc3e771a23b5c50990d139",
     "grade": true,
     "grade_id": "student-create-variables-answer",
     "locked": false,
     "points": 6,
     "schema_version": 3,
     "solution": true,
     "task": false
    }
   },
   "outputs": [],
   "source": [
    "# Create variables of monthly temp\n",
    "\n",
    "# YOUR CODE HERE\n",
    "raise NotImplementedError()"
   ]
  },
  {
   "cell_type": "markdown",
   "metadata": {
    "deletable": false,
    "editable": false,
    "nbgrader": {
     "cell_type": "markdown",
     "checksum": "bcdb96f7481d9064f15def2d58002efe",
     "grade": false,
     "grade_id": "question-calc-variables",
     "locked": true,
     "schema_version": 3,
     "solution": false,
     "task": false
    }
   },
   "source": [
    "## Run Calculations on Variables\n",
    "\n",
    "In the cell below, add your code **after the line for `Your Code Here`**, replacing `raise NotImplementedError()` with your code, to complete the following task:\n",
    "\n",
    "* Convert the variable values for January through June **from Fahrenheit to Celsius** using the following equation:\n",
    "    * Celsius = (Fahrenheit - 32) / 1.8\n",
    "    * Note that including `Fahrenheit - 32` within parenthesis `()` tells `Python` to execute that calculation first.  "
   ]
  },
  {
   "cell_type": "code",
   "execution_count": null,
   "metadata": {
    "deletable": false,
    "nbgrader": {
     "cell_type": "code",
     "checksum": "04195965fd3ad199cda116608e44b804",
     "grade": true,
     "grade_id": "student-calc-variables-answer",
     "locked": false,
     "points": 6,
     "schema_version": 3,
     "solution": true,
     "task": false
    }
   },
   "outputs": [],
   "source": [
    "# Convert variable values from Fahrenheit to Celsius\n",
    "\n",
    "# YOUR CODE HERE\n",
    "raise NotImplementedError()"
   ]
  },
  {
   "cell_type": "markdown",
   "metadata": {
    "deletable": false,
    "editable": false,
    "nbgrader": {
     "cell_type": "markdown",
     "checksum": "5dd764ec8b97378015bc1bb21f153b51",
     "grade": false,
     "grade_id": "question-create-list-temp",
     "locked": true,
     "schema_version": 3,
     "solution": false,
     "task": false
    }
   },
   "source": [
    "## Create List of Converted Monthly Temperatures\n",
    "\n",
    "In the cell below, add your code **after the line for `Your Code Here`**, replacing `raise NotImplementedError()` with your code, to complete the following task:\n",
    "\n",
    "* Create a list for average monthly temperature for Boulder, CO containing the **variables for January to June in the Celsius degrees**. "
   ]
  },
  {
   "cell_type": "code",
   "execution_count": null,
   "metadata": {
    "deletable": false,
    "nbgrader": {
     "cell_type": "code",
     "checksum": "42a59a25f0805af46177e4ede7cafb01",
     "grade": true,
     "grade_id": "student-create-list-temp-answer",
     "locked": false,
     "points": 6,
     "schema_version": 3,
     "solution": true,
     "task": false
    }
   },
   "outputs": [],
   "source": [
    "# Create list of converted monthly temps\n",
    "\n",
    "# YOUR CODE HERE\n",
    "raise NotImplementedError()"
   ]
  },
  {
   "cell_type": "markdown",
   "metadata": {
    "deletable": false,
    "editable": false,
    "nbgrader": {
     "cell_type": "markdown",
     "checksum": "44443054df1a81bb472f09324cb28589",
     "grade": false,
     "grade_id": "question-add-values-list",
     "locked": true,
     "schema_version": 3,
     "solution": false,
     "task": false
    }
   },
   "source": [
    "## Add Values to List of Converted Monthly Temperatures\n",
    "\n",
    "In the cell below, add your code **after the line for `Your Code Here`**, replacing `raise NotImplementedError()` with your code, to complete the following task:\n",
    "\n",
    "* Add the average monthly temperature values for **July to December in the Celsius degrees** (in the table below) to your list of converted monthly temperatures. \n",
    "* **Print your completed list of converted monthly temperatures (in Celsius degrees).** \n",
    "\n",
    "Month  | Temperature (Celsius) |\n",
    "--- | --- |\n",
    "July | 22.77777777777778 |\n",
    "Aug | 21.722222222222218 |\n",
    "Sept | 16.72222222222222 |\n",
    "Oct | 11.61111111111111 |\n",
    "Nov | 4.8888888888888875 |\n",
    "Dec | 0.9999999999999984 |"
   ]
  },
  {
   "cell_type": "code",
   "execution_count": null,
   "metadata": {
    "deletable": false,
    "nbgrader": {
     "cell_type": "code",
     "checksum": "8a12c93b80a2b05f3914f21f57be7289",
     "grade": true,
     "grade_id": "student-add-values-list",
     "locked": false,
     "points": 6,
     "schema_version": 3,
     "solution": true,
     "task": false
    }
   },
   "outputs": [],
   "source": [
    "# Add values to temp list for July to Dec\n",
    "\n",
    "# YOUR CODE HERE\n",
    "raise NotImplementedError()"
   ]
  },
  {
   "cell_type": "markdown",
   "metadata": {
    "deletable": false,
    "editable": false,
    "nbgrader": {
     "cell_type": "markdown",
     "checksum": "6f0f9e5f332aa019c5a08b8e4118a655",
     "grade": false,
     "grade_id": "question-create-list-months",
     "locked": true,
     "schema_version": 3,
     "solution": false,
     "task": false
    }
   },
   "source": [
    "## Create List of Month Names\n",
    "\n",
    "In the cell below, add your code **after the line for `Your Code Here`**, replacing `raise NotImplementedError()` with your code, to complete the following task:\n",
    "\n",
    "* Create a list containing the month names using **full-length** month names (e.g. January, February)."
   ]
  },
  {
   "cell_type": "code",
   "execution_count": null,
   "metadata": {
    "deletable": false,
    "nbgrader": {
     "cell_type": "code",
     "checksum": "650ac6b75a5ac304456e3028a3bc9a7d",
     "grade": true,
     "grade_id": "student-create-list-months-answer",
     "locked": false,
     "points": 6,
     "schema_version": 3,
     "solution": true,
     "task": false
    }
   },
   "outputs": [],
   "source": [
    "# Create list of month names\n",
    "\n",
    "# YOUR CODE HERE\n",
    "raise NotImplementedError()"
   ]
  },
  {
   "cell_type": "markdown",
   "metadata": {
    "deletable": false,
    "editable": false,
    "nbgrader": {
     "cell_type": "markdown",
     "checksum": "adca11efdac431b23d35741b51fa7bfc",
     "grade": false,
     "grade_id": "question-update-list",
     "locked": true,
     "schema_version": 3,
     "solution": false,
     "task": false
    }
   },
   "source": [
    "## Update List of Month Names\n",
    "\n",
    "In the cell below, add your code **after the line for `Your Code Here`**, replacing `raise NotImplementedError()` with your code, to complete the following task:\n",
    "\n",
    "* Update the items in your list containing the month names from **full-length** month names (e.g. January) to **abbreviated** month names (e.g. Jan). \n",
    "    * Be sure to use the appropriate index values to **update only the items that require updating** in the list (review the data table for the abbreviations).\n",
    "    * Two points will be deducted for each extra update that was not needed."
   ]
  },
  {
   "cell_type": "code",
   "execution_count": null,
   "metadata": {
    "deletable": false,
    "nbgrader": {
     "cell_type": "code",
     "checksum": "8ff8ff9be43b69ff993297b79e0240ae",
     "grade": true,
     "grade_id": "student-update-list-answer",
     "locked": false,
     "points": 20,
     "schema_version": 3,
     "solution": true,
     "task": false
    }
   },
   "outputs": [],
   "source": [
    "# Abbreviate month names\n",
    "\n",
    "# YOUR CODE HERE\n",
    "raise NotImplementedError()"
   ]
  },
  {
   "cell_type": "markdown",
   "metadata": {
    "deletable": false,
    "editable": false,
    "nbgrader": {
     "cell_type": "markdown",
     "checksum": "59be6b3ca6d00de4a646edacd7441525",
     "grade": false,
     "grade_id": "question-plot",
     "locked": true,
     "schema_version": 3,
     "solution": false
    }
   },
   "source": [
    "## Create Plot From Lists\n",
    "\n",
    "In the cell below, add your code **after the line for `Your Code Here`**, replacing `raise NotImplementedError()` with your code, to complete the following task:\n",
    "\n",
    "* Create a **red bar** plot (2 pts) of the average monthly temperature for Boulder, CO:\n",
    "    * Be sure to use the lists you created in previous questions for **temperatures in Celsius** (4 pts) and **abbreviated month names** (4 pts). \n",
    "    * Be sure to include an appropriate title for your plot (2 pts).\n",
    "    * Be sure to include clear labels for the x-axis (2 pts) and y-axis (2 pts), **including the units of measurement** where appropriate (2 pts).\n",
    "\n",
    "For your titles and labels, be sure to think about the following pieces of information that could help someone easily interpret the plot:\n",
    "* geographic coverage or extent of data.\n",
    "* duration or temporal extent of the data.\n",
    "* what was actually measured and/or represented by the data.\n",
    "* units of measurement."
   ]
  },
  {
   "cell_type": "code",
   "execution_count": null,
   "metadata": {
    "deletable": false,
    "nbgrader": {
     "cell_type": "code",
     "checksum": "8334d2e108b59af48d1c32f6282c363a",
     "grade": false,
     "grade_id": "student-create-plot-1-answer",
     "locked": false,
     "schema_version": 3,
     "solution": true,
     "task": false
    }
   },
   "outputs": [],
   "source": [
    "# Create plot\n",
    "\n",
    "# YOUR CODE HERE\n",
    "raise NotImplementedError()\n",
    "\n",
    "### DO NOT REMOVE LINE BELOW ###\n",
    "ts_1_plot = nb.convert_axes(plt)"
   ]
  },
  {
   "cell_type": "markdown",
   "metadata": {
    "deletable": false,
    "editable": false,
    "nbgrader": {
     "cell_type": "markdown",
     "checksum": "da8f97dbe55653ee5da5496b9545f1cd",
     "grade": false,
     "grade_id": "question-explain-plot",
     "locked": true,
     "schema_version": 3,
     "solution": false
    }
   },
   "source": [
    "## Explain Your Plot\n",
    "\n",
    "In the Markdown cell below, answer the following questions about your plot using a **numbered list**.\n",
    "\n",
    "1. Which month has the lowest average temperature, and which has the highest? How much of a difference is there between the lowest and highest average temperatures?\n",
    "\n",
    "2. Given that Boulder, CO is in the Northern hemisphere, are these results surprising? How might the results look different if you were plotting data from a location in the Southern hemisphere? (Hint: think about seasonality differences between the Northern and Southern hemispheres.) \n",
    "\n",
    "3. Given that Boulder, CO is at a moderately high latitude (~40 degrees North), are these results surprising? How might the results look different if you were plotting data from a location closer to the equator? (Hint: think about the difference between the lowest and highest temperatures for high versus low latitudes.)\n",
    "\n",
    "Remove any existing text in the cell before adding your answer.\n",
    "\n",
    "To answer these questions, it can help to review the <a href=\"https://www.google.com/maps/place/Boulder,+CO/@18.3736306,-81.2965677,3.85z/data=!4m5!3m4!1s0x876b8d4e278dafd3:0xc8393b7ca01b8058!8m2!3d40.0149856!4d-105.2705456\" target = \"_blank\">location of Boulder Colorado on Google Maps</a>. "
   ]
  },
  {
   "cell_type": "markdown",
   "metadata": {
    "deletable": false,
    "nbgrader": {
     "cell_type": "markdown",
     "checksum": "f75cef5afbb9d5d884a8b0fe9ec22207",
     "grade": true,
     "grade_id": "student-explain-plot-answer",
     "locked": false,
     "points": 18,
     "schema_version": 3,
     "solution": true
    }
   },
   "source": [
    "YOUR ANSWER HERE"
   ]
  },
  {
   "cell_type": "markdown",
   "metadata": {
    "deletable": false,
    "editable": false,
    "nbgrader": {
     "cell_type": "markdown",
     "checksum": "cc19b6667727f9684ac711d8aa0f0802",
     "grade": false,
     "grade_id": "question-explain-pep-8",
     "locked": true,
     "schema_version": 3,
     "solution": false,
     "task": false
    }
   },
   "source": [
    "## Discuss Use of PEP 8 Style Guide\n",
    "\n",
    "In the Markdown cell below, answer the following questions about the PEP 8 style guide using a **bullet list**:\n",
    "\n",
    "1. How did the PEP 8 style guide influence your choice of variable names and your code organization in this assignment?\n",
    "\n",
    "2. Describe one way in which these standards are promoted and/or enforced within the `Python` community.\n",
    "\n",
    "Remove any existing text in the cell before adding your answer."
   ]
  },
  {
   "cell_type": "markdown",
   "metadata": {
    "deletable": false,
    "nbgrader": {
     "cell_type": "markdown",
     "checksum": "7373568b67c0f2ed6fbabca8a4b8e77d",
     "grade": true,
     "grade_id": "student-explain-pep-8",
     "locked": false,
     "points": 12,
     "schema_version": 3,
     "solution": true,
     "task": false
    }
   },
   "source": [
    "YOUR ANSWER HERE"
   ]
  },
  {
   "cell_type": "code",
   "execution_count": null,
   "metadata": {
    "deletable": false,
    "editable": false,
    "nbgrader": {
     "cell_type": "code",
     "checksum": "ed8f4fd29718dd2ef1b8018dc3113ca4",
     "grade": true,
     "grade_id": "hidden-plot-tests",
     "locked": true,
     "points": 18,
     "schema_version": 3,
     "solution": false
    }
   },
   "outputs": [],
   "source": []
  }
 ],
 "metadata": {
  "kernelspec": {
   "display_name": "Python 3",
   "language": "python",
   "name": "python3"
  },
  "language_info": {
   "codemirror_mode": {
    "name": "ipython",
    "version": 3
   },
   "file_extension": ".py",
   "mimetype": "text/x-python",
   "name": "python",
   "nbconvert_exporter": "python",
   "pygments_lexer": "ipython3",
   "version": "3.7.3"
  }
 },
 "nbformat": 4,
 "nbformat_minor": 2
}
